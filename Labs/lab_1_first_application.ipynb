{
 "cells": [
  {
   "cell_type": "markdown",
   "metadata": {},
   "source": [
    "# First Cosmos DB for MongoDB API application"
   ]
  },
  {
   "cell_type": "code",
   "execution_count": 2,
   "metadata": {},
   "outputs": [],
   "source": [
    "import os\n",
    "import pymongo\n",
    "from pprint import pprint\n",
    "from dotenv import load_dotenv\n",
    "from models import Product"
   ]
  },
  {
   "cell_type": "markdown",
   "metadata": {},
   "source": [
    "## Create a database\n",
    "\n",
    "In creating a database connection to the MongoDB API, it will create a new database if it does not already exist. In this case, ensure the database connection string is located in a `.env` file in the root of the project, you will need to create this file. The `.env` file should contain the following value (replace the value with your own connection string):\n",
    "\n",
    "DB_CONNECTION_STRING=\"mongodb__connection_string\"\n",
    "\n",
    ">**Note**: If you are running using the **local emulator**, append the following value to the connection string: `&retrywrites=false&tlsallowinvalidcertificates=true`. Also ensure that you are starting the emulator using the [MongoDB endpoint option](https://learn.microsoft.com/en-us/azure/cosmos-db/how-to-develop-emulator?tabs=windows%2Cpython&pivots=api-mongodb#start-the-emulator).\n"
   ]
  },
  {
   "cell_type": "code",
   "execution_count": 3,
   "metadata": {},
   "outputs": [
    {
     "ename": "ConfigurationError",
     "evalue": "The DNS query name does not exist: _mongodb._tcp.<host>.mongocluster.cosmos.azure.com.",
     "output_type": "error",
     "traceback": [
      "\u001b[0;31m---------------------------------------------------------------------------\u001b[0m",
      "\u001b[0;31mConfigurationError\u001b[0m                        Traceback (most recent call last)",
      "Cell \u001b[0;32mIn[3], line 3\u001b[0m\n\u001b[1;32m      1\u001b[0m load_dotenv()\n\u001b[1;32m      2\u001b[0m CONNECTION_STRING \u001b[38;5;241m=\u001b[39m os\u001b[38;5;241m.\u001b[39menviron\u001b[38;5;241m.\u001b[39mget(\u001b[38;5;124m\"\u001b[39m\u001b[38;5;124mDB_CONNECTION_STRING\u001b[39m\u001b[38;5;124m\"\u001b[39m)\n\u001b[0;32m----> 3\u001b[0m client \u001b[38;5;241m=\u001b[39m \u001b[43mpymongo\u001b[49m\u001b[38;5;241;43m.\u001b[39;49m\u001b[43mMongoClient\u001b[49m\u001b[43m(\u001b[49m\u001b[43mCONNECTION_STRING\u001b[49m\u001b[43m)\u001b[49m\n\u001b[1;32m      4\u001b[0m \u001b[38;5;66;03m# Create database to hold cosmic works data\u001b[39;00m\n\u001b[1;32m      5\u001b[0m \u001b[38;5;66;03m# MongoDB will create the database if it does not exist\u001b[39;00m\n\u001b[1;32m      6\u001b[0m db \u001b[38;5;241m=\u001b[39m client\u001b[38;5;241m.\u001b[39mcosmic_works\n",
      "File \u001b[0;32m/Library/Frameworks/Python.framework/Versions/3.12/lib/python3.12/site-packages/pymongo/mongo_client.py:771\u001b[0m, in \u001b[0;36mMongoClient.__init__\u001b[0;34m(self, host, port, document_class, tz_aware, connect, type_registry, **kwargs)\u001b[0m\n\u001b[1;32m    767\u001b[0m \u001b[38;5;28;01mif\u001b[39;00m timeout \u001b[38;5;129;01mis\u001b[39;00m \u001b[38;5;129;01mnot\u001b[39;00m \u001b[38;5;28;01mNone\u001b[39;00m:\n\u001b[1;32m    768\u001b[0m     timeout \u001b[38;5;241m=\u001b[39m common\u001b[38;5;241m.\u001b[39mvalidate_timeout_or_none_or_zero(\n\u001b[1;32m    769\u001b[0m         keyword_opts\u001b[38;5;241m.\u001b[39mcased_key(\u001b[38;5;124m\"\u001b[39m\u001b[38;5;124mconnecttimeoutms\u001b[39m\u001b[38;5;124m\"\u001b[39m), timeout\n\u001b[1;32m    770\u001b[0m     )\n\u001b[0;32m--> 771\u001b[0m res \u001b[38;5;241m=\u001b[39m \u001b[43muri_parser\u001b[49m\u001b[38;5;241;43m.\u001b[39;49m\u001b[43mparse_uri\u001b[49m\u001b[43m(\u001b[49m\n\u001b[1;32m    772\u001b[0m \u001b[43m    \u001b[49m\u001b[43mentity\u001b[49m\u001b[43m,\u001b[49m\n\u001b[1;32m    773\u001b[0m \u001b[43m    \u001b[49m\u001b[43mport\u001b[49m\u001b[43m,\u001b[49m\n\u001b[1;32m    774\u001b[0m \u001b[43m    \u001b[49m\u001b[43mvalidate\u001b[49m\u001b[38;5;241;43m=\u001b[39;49m\u001b[38;5;28;43;01mTrue\u001b[39;49;00m\u001b[43m,\u001b[49m\n\u001b[1;32m    775\u001b[0m \u001b[43m    \u001b[49m\u001b[43mwarn\u001b[49m\u001b[38;5;241;43m=\u001b[39;49m\u001b[38;5;28;43;01mTrue\u001b[39;49;00m\u001b[43m,\u001b[49m\n\u001b[1;32m    776\u001b[0m \u001b[43m    \u001b[49m\u001b[43mnormalize\u001b[49m\u001b[38;5;241;43m=\u001b[39;49m\u001b[38;5;28;43;01mFalse\u001b[39;49;00m\u001b[43m,\u001b[49m\n\u001b[1;32m    777\u001b[0m \u001b[43m    \u001b[49m\u001b[43mconnect_timeout\u001b[49m\u001b[38;5;241;43m=\u001b[39;49m\u001b[43mtimeout\u001b[49m\u001b[43m,\u001b[49m\n\u001b[1;32m    778\u001b[0m \u001b[43m    \u001b[49m\u001b[43msrv_service_name\u001b[49m\u001b[38;5;241;43m=\u001b[39;49m\u001b[43msrv_service_name\u001b[49m\u001b[43m,\u001b[49m\n\u001b[1;32m    779\u001b[0m \u001b[43m    \u001b[49m\u001b[43msrv_max_hosts\u001b[49m\u001b[38;5;241;43m=\u001b[39;49m\u001b[43msrv_max_hosts\u001b[49m\u001b[43m,\u001b[49m\n\u001b[1;32m    780\u001b[0m \u001b[43m\u001b[49m\u001b[43m)\u001b[49m\n\u001b[1;32m    781\u001b[0m seeds\u001b[38;5;241m.\u001b[39mupdate(res[\u001b[38;5;124m\"\u001b[39m\u001b[38;5;124mnodelist\u001b[39m\u001b[38;5;124m\"\u001b[39m])\n\u001b[1;32m    782\u001b[0m username \u001b[38;5;241m=\u001b[39m res[\u001b[38;5;124m\"\u001b[39m\u001b[38;5;124musername\u001b[39m\u001b[38;5;124m\"\u001b[39m] \u001b[38;5;129;01mor\u001b[39;00m username\n",
      "File \u001b[0;32m/Library/Frameworks/Python.framework/Versions/3.12/lib/python3.12/site-packages/pymongo/uri_parser.py:558\u001b[0m, in \u001b[0;36mparse_uri\u001b[0;34m(uri, default_port, validate, warn, normalize, connect_timeout, srv_service_name, srv_max_hosts)\u001b[0m\n\u001b[1;32m    556\u001b[0m connect_timeout \u001b[38;5;241m=\u001b[39m connect_timeout \u001b[38;5;129;01mor\u001b[39;00m options\u001b[38;5;241m.\u001b[39mget(\u001b[38;5;124m\"\u001b[39m\u001b[38;5;124mconnectTimeoutMS\u001b[39m\u001b[38;5;124m\"\u001b[39m)\n\u001b[1;32m    557\u001b[0m dns_resolver \u001b[38;5;241m=\u001b[39m _SrvResolver(fqdn, connect_timeout, srv_service_name, srv_max_hosts)\n\u001b[0;32m--> 558\u001b[0m nodes \u001b[38;5;241m=\u001b[39m \u001b[43mdns_resolver\u001b[49m\u001b[38;5;241;43m.\u001b[39;49m\u001b[43mget_hosts\u001b[49m\u001b[43m(\u001b[49m\u001b[43m)\u001b[49m\n\u001b[1;32m    559\u001b[0m dns_options \u001b[38;5;241m=\u001b[39m dns_resolver\u001b[38;5;241m.\u001b[39mget_options()\n\u001b[1;32m    560\u001b[0m \u001b[38;5;28;01mif\u001b[39;00m dns_options:\n",
      "File \u001b[0;32m/Library/Frameworks/Python.framework/Versions/3.12/lib/python3.12/site-packages/pymongo/srv_resolver.py:131\u001b[0m, in \u001b[0;36m_SrvResolver.get_hosts\u001b[0;34m(self)\u001b[0m\n\u001b[1;32m    130\u001b[0m \u001b[38;5;28;01mdef\u001b[39;00m \u001b[38;5;21mget_hosts\u001b[39m(\u001b[38;5;28mself\u001b[39m) \u001b[38;5;241m-\u001b[39m\u001b[38;5;241m>\u001b[39m \u001b[38;5;28mlist\u001b[39m[\u001b[38;5;28mtuple\u001b[39m[\u001b[38;5;28mstr\u001b[39m, Any]]:\n\u001b[0;32m--> 131\u001b[0m     _, nodes \u001b[38;5;241m=\u001b[39m \u001b[38;5;28;43mself\u001b[39;49m\u001b[38;5;241;43m.\u001b[39;49m\u001b[43m_get_srv_response_and_hosts\u001b[49m\u001b[43m(\u001b[49m\u001b[38;5;28;43;01mTrue\u001b[39;49;00m\u001b[43m)\u001b[49m\n\u001b[1;32m    132\u001b[0m     \u001b[38;5;28;01mreturn\u001b[39;00m nodes\n",
      "File \u001b[0;32m/Library/Frameworks/Python.framework/Versions/3.12/lib/python3.12/site-packages/pymongo/srv_resolver.py:111\u001b[0m, in \u001b[0;36m_SrvResolver._get_srv_response_and_hosts\u001b[0;34m(self, encapsulate_errors)\u001b[0m\n\u001b[1;32m    108\u001b[0m \u001b[38;5;28;01mdef\u001b[39;00m \u001b[38;5;21m_get_srv_response_and_hosts\u001b[39m(\n\u001b[1;32m    109\u001b[0m     \u001b[38;5;28mself\u001b[39m, encapsulate_errors: \u001b[38;5;28mbool\u001b[39m\n\u001b[1;32m    110\u001b[0m ) \u001b[38;5;241m-\u001b[39m\u001b[38;5;241m>\u001b[39m \u001b[38;5;28mtuple\u001b[39m[resolver\u001b[38;5;241m.\u001b[39mAnswer, \u001b[38;5;28mlist\u001b[39m[\u001b[38;5;28mtuple\u001b[39m[\u001b[38;5;28mstr\u001b[39m, Any]]]:\n\u001b[0;32m--> 111\u001b[0m     results \u001b[38;5;241m=\u001b[39m \u001b[38;5;28;43mself\u001b[39;49m\u001b[38;5;241;43m.\u001b[39;49m\u001b[43m_resolve_uri\u001b[49m\u001b[43m(\u001b[49m\u001b[43mencapsulate_errors\u001b[49m\u001b[43m)\u001b[49m\n\u001b[1;32m    113\u001b[0m     \u001b[38;5;66;03m# Construct address tuples\u001b[39;00m\n\u001b[1;32m    114\u001b[0m     nodes \u001b[38;5;241m=\u001b[39m [\n\u001b[1;32m    115\u001b[0m         (maybe_decode(res\u001b[38;5;241m.\u001b[39mtarget\u001b[38;5;241m.\u001b[39mto_text(omit_final_dot\u001b[38;5;241m=\u001b[39m\u001b[38;5;28;01mTrue\u001b[39;00m)), res\u001b[38;5;241m.\u001b[39mport) \u001b[38;5;28;01mfor\u001b[39;00m res \u001b[38;5;129;01min\u001b[39;00m results\n\u001b[1;32m    116\u001b[0m     ]\n",
      "File \u001b[0;32m/Library/Frameworks/Python.framework/Versions/3.12/lib/python3.12/site-packages/pymongo/srv_resolver.py:105\u001b[0m, in \u001b[0;36m_SrvResolver._resolve_uri\u001b[0;34m(self, encapsulate_errors)\u001b[0m\n\u001b[1;32m    103\u001b[0m         \u001b[38;5;28;01mraise\u001b[39;00m\n\u001b[1;32m    104\u001b[0m     \u001b[38;5;66;03m# Else, raise all errors as ConfigurationError.\u001b[39;00m\n\u001b[0;32m--> 105\u001b[0m     \u001b[38;5;28;01mraise\u001b[39;00m ConfigurationError(\u001b[38;5;28mstr\u001b[39m(exc)) \u001b[38;5;28;01mfrom\u001b[39;00m \u001b[38;5;28;01mNone\u001b[39;00m\n\u001b[1;32m    106\u001b[0m \u001b[38;5;28;01mreturn\u001b[39;00m results\n",
      "\u001b[0;31mConfigurationError\u001b[0m: The DNS query name does not exist: _mongodb._tcp.<host>.mongocluster.cosmos.azure.com."
     ]
    }
   ],
   "source": [
    "load_dotenv()\n",
    "CONNECTION_STRING = os.environ.get(\"DB_CONNECTION_STRING\")\n",
    "client = pymongo.MongoClient(CONNECTION_STRING)\n",
    "# Create database to hold cosmic works data\n",
    "# MongoDB will create the database if it does not exist\n",
    "db = client.cosmic_works"
   ]
  },
  {
   "cell_type": "markdown",
   "metadata": {},
   "source": [
    "## Create a collection\n",
    "\n",
    "Creating collections behaves similarly to the database creation. If the collection does not exist, it will be created. It's important to note that databases and collections are lazily created. This means that the database and collection will not be created until the first document is inserted."
   ]
  },
  {
   "cell_type": "code",
   "execution_count": null,
   "metadata": {},
   "outputs": [],
   "source": [
    "collection = db.products"
   ]
  },
  {
   "cell_type": "markdown",
   "metadata": {},
   "source": [
    "## Create a document\n",
    "\n",
    "Documents in Cosmos DB API for MongoDB are represented as JSON objects. In this lab, the Pydantic library is used to create a model for the document. This model is then used to create a document in the database using built-in serialization methods. Find the models in the `models` folder. Notice the class property definitions include aliases, these aliases can be used to override the serialized property names. This is useful when the property names in the model do not match the property names desired in the database.\n",
    "\n",
    "One method of creating a document is using the `insert_one` method. This method takes a single document and inserts it into the database. This operation returns an [InsertOneResult](https://pymongo.readthedocs.io/en/stable/api/pymongo/results.html#pymongo.results.InsertOneResult) object that contains the property `inserted_id`. This property contains the unique identifier of the document that was just inserted."
   ]
  },
  {
   "cell_type": "code",
   "execution_count": null,
   "metadata": {},
   "outputs": [],
   "source": [
    "product = Product(\n",
    "        id=\"2BA4A26C-A8DB-4645-BEB9-F7D42F50262E\",    \n",
    "        category_id=\"56400CF3-446D-4C3F-B9B2-68286DA3BB99\", \n",
    "        category_name=\"Bikes, Mountain Bikes\", \n",
    "        sku=\"BK-M18S-42\",\n",
    "        name=\"Mountain-100 Silver, 42\",\n",
    "        description='The product called \"Mountain-500 Silver, 42\"',\n",
    "        price=742.42,\n",
    "       )\n",
    "\n",
    "# Generate JSON using alias names defined on the model\n",
    "product_json = product.model_dump(by_alias=True)\n",
    "\n",
    "# Insert the JSON into the database, and retrieve the inserted/generated ID\n",
    "product_id = collection.insert_one(product_json).inserted_id\n",
    "\n",
    "print(f\"Inserted product with ID: {product_id}\")"
   ]
  },
  {
   "cell_type": "markdown",
   "metadata": {},
   "source": [
    "## Read a document\n",
    "\n",
    "The insertion of the Product in the previous cell automatically created the database and collection. The `find_one` method is used to retrieve a single document from the database. The `find_one` method takes a filter as an argument. This filter is used to find the document in the database. In this case, the filter is the unique identifier or `_id` of the document that was just inserted."
   ]
  },
  {
   "cell_type": "code",
   "execution_count": null,
   "metadata": {},
   "outputs": [],
   "source": [
    "retrieved_document = collection.find_one({\"_id\": product_id})\n",
    "\n",
    "# Print the retrieved JSON document\n",
    "print(\"JSON document retrieved from the database:\")\n",
    "pprint(retrieved_document)\n",
    "\n",
    "# Cast JSON document into the Product model\n",
    "retrieved_product = Product(**retrieved_document)\n",
    "\n",
    "# Print the retrieved product\n",
    "print(\"\\nCast Product from document:\")\n",
    "print(retrieved_product)"
   ]
  },
  {
   "cell_type": "markdown",
   "metadata": {},
   "source": [
    "## Update a document\n",
    "\n",
    "The `find_one_and_update` method is used to update a single document in the database. This method takes a filter and an update as arguments. The filter is used to find the document to update. The update is a dictionary of the properties to update. In this case, the `find_one_and_update` method is used to update the `name` property of the document. The updated document is the return value for this method.\n",
    "\n",
    "Find additional examples of queries in the [documentation](https://learn.microsoft.com/en-us/azure/cosmos-db/mongodb/tutorial-query)."
   ]
  },
  {
   "cell_type": "code",
   "execution_count": null,
   "metadata": {},
   "outputs": [],
   "source": [
    "retrieved_product.name = \"Mountain-100 Silver, 48\\\"\"\n",
    "update_result = collection.find_one_and_update(\n",
    "    {\"_id\": product_id},\n",
    "    {\"$set\": {\"name\": retrieved_product.name}},\n",
    "    return_document=pymongo.ReturnDocument.AFTER\n",
    ")\n",
    "print(\"Updated JSON document:\")\n",
    "print(update_result)\n",
    "updated_product = Product(**update_result)\n",
    "print(f\"\\nUpdated Product name: {updated_product.name}\")"
   ]
  },
  {
   "cell_type": "markdown",
   "metadata": {},
   "source": [
    "## Delete a document\n",
    "\n",
    "The `delete_one` method is used to delete a single document from the database. This method takes a filter as an argument. This filter is used to find the document to delete. In this case, the filter is the unique identifier or `_id` of the document that was just inserted and updated."
   ]
  },
  {
   "cell_type": "code",
   "execution_count": null,
   "metadata": {},
   "outputs": [],
   "source": [
    "delete_result = collection.delete_one({\"_id\": product_id})\n",
    "print(f\"Deleted documents count: {delete_result.deleted_count}\")\n",
    "print(f\"Number of documents in the collection: {collection.count_documents({})}\")"
   ]
  },
  {
   "cell_type": "markdown",
   "metadata": {},
   "source": [
    "## Query for multiple documents\n",
    "\n",
    "The `find` method is used to query for multiple documents in the database. This method takes a filter as an argument. This filter is used to find the documents to return. In this case, the filter is an empty dictionary. This will return all documents in the collection."
   ]
  },
  {
   "cell_type": "code",
   "execution_count": null,
   "metadata": {},
   "outputs": [],
   "source": [
    "# Insert multiple documents\n",
    "products = [\n",
    "    Product(\n",
    "        id=\"2BA4A26C-A8DB-4645-BEB9-F7D42F50262E\",    \n",
    "        category_id=\"56400CF3-446D-4C3F-B9B2-68286DA3BB99\", \n",
    "        category_name=\"Bikes, Mountain Bikes\", \n",
    "        sku=\"BK-M18S-42\",\n",
    "        name=\"Mountain-100 Silver, 42\",\n",
    "        description='The product called \"Mountain-500 Silver, 42\"',\n",
    "        price=742.42\n",
    "       ),\n",
    "    Product(\n",
    "        id=\"027D0B9A-F9D9-4C96-8213-C8546C4AAE71\",    \n",
    "        category_id=\"26C74104-40BC-4541-8EF5-9892F7F03D72\", \n",
    "        category_name=\"Components, Saddles\", \n",
    "        sku=\"SE-R581\",\n",
    "        name=\"LL Road Seat/Saddle\",\n",
    "        description='The product called \"LL Road Seat/Saddle\"',\n",
    "        price=27.12\n",
    "       ),\n",
    "    Product(\n",
    "        id = \"4E4B38CB-0D82-43E5-89AF-20270CD28A04\",\n",
    "        category_id = \"75BF1ACB-168D-469C-9AA3-1FD26BB4EA4C\",\n",
    "        category_name = \"Bikes, Touring Bikes\",\n",
    "        sku = \"BK-T44U-60\",\n",
    "        name = \"Touring-2000 Blue, 60\",\n",
    "        description = 'The product called Touring-2000 Blue, 60\"',\n",
    "        price = 1214.85\n",
    "       ),\n",
    "    Product(\n",
    "        id = \"5B5E90B8-FEA2-4D6C-B728-EC586656FA6D\",\n",
    "        category_id = \"75BF1ACB-168D-469C-9AA3-1FD26BB4EA4C\",\n",
    "        category_name = \"Bikes, Touring Bikes\",\n",
    "        sku = \"BK-T79Y-60\",\n",
    "        name = \"Touring-1000 Yellow, 60\",\n",
    "        description = 'The product called Touring-1000 Yellow, 60\"',\n",
    "        price = 2384.07\n",
    "       ),\n",
    "    Product(\n",
    "        id = \"7BAA49C9-21B5-4EEF-9F6B-BCD6DA7C2239\",\n",
    "        category_id = \"26C74104-40BC-4541-8EF5-9892F7F03D72\",\n",
    "        category_name = \"Components, Saddles\",\n",
    "        sku = \"SE-R995\",\n",
    "        name = \"HL Road Seat/Saddle\",\n",
    "        description = 'The product called \"HL Road Seat/Saddle\"',\n",
    "        price = 52.64,\n",
    "       )\n",
    "]\n",
    "\n",
    "# The bulk_write method takes a list of write operations and executes them in the same transaction\n",
    "# The UpdateOne operation updates a single document, notice the upsert=True option, this means that\n",
    "# if the document does not exist, it will be created, if it does exist, it will be updated\n",
    "collection.bulk_write([pymongo.UpdateOne({\"_id\": prod.id}, {\"$set\": prod.model_dump(by_alias=True)}, upsert=True) for prod in products])"
   ]
  },
  {
   "cell_type": "code",
   "execution_count": null,
   "metadata": {},
   "outputs": [],
   "source": [
    "# Print all documents that have a category name of \"Components, Saddles\"\n",
    "for result in collection.find({\"categoryName\": \"Components, Saddles\"}):\n",
    "    pprint(result)"
   ]
  },
  {
   "cell_type": "code",
   "execution_count": null,
   "metadata": {},
   "outputs": [],
   "source": [
    "# Print all documents that have a category name that includes the word \"Bikes\"\n",
    "for result in collection.find({\"categoryName\": {\"$regex\": \"Bikes\"}}):\n",
    "    pprint(result)"
   ]
  },
  {
   "cell_type": "markdown",
   "metadata": {},
   "source": [
    "## Clean up resources\n",
    "\n",
    "The following cell will delete the database and collection created in this lab. This is done by using the `drop_database` method on the database object. This method takes the name of the database to delete as an argument. If it is desired to simply delete the collection, the `drop_collection` method can be used on the database object. This method takes the name of the collection to delete as an argument."
   ]
  },
  {
   "cell_type": "code",
   "execution_count": null,
   "metadata": {},
   "outputs": [],
   "source": [
    "# db.drop_collection(\"products\")\n",
    "client.drop_database(\"cosmic_works\")\n",
    "client.close()"
   ]
  }
 ],
 "metadata": {
  "kernelspec": {
   "display_name": ".venv",
   "language": "python",
   "name": "python3"
  },
  "language_info": {
   "codemirror_mode": {
    "name": "ipython",
    "version": 3
   },
   "file_extension": ".py",
   "mimetype": "text/x-python",
   "name": "python",
   "nbconvert_exporter": "python",
   "pygments_lexer": "ipython3",
   "version": "3.12.3"
  }
 },
 "nbformat": 4,
 "nbformat_minor": 2
}
